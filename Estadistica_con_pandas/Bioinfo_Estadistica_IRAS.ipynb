{
 "cells": [
  {
   "cell_type": "code",
   "execution_count": 1,
   "metadata": {},
   "outputs": [
    {
     "name": "stdout",
     "output_type": "stream",
     "text": [
      "Populating the interactive namespace from numpy and matplotlib\n"
     ]
    }
   ],
   "source": [
    "# Open source data analysis and manipulation tool.\n",
    "import pandas as pd\n",
    "\n",
    "# Python data visualization library.\n",
    "import seaborn as sns\n",
    "\n",
    "#It provides numerical routines for numerical integration, interpolation, optimization, linear algebra, and statistics.\n",
    "import scipy.stats as ss\n",
    "%pylab inline"
   ]
  },
  {
   "cell_type": "markdown",
   "metadata": {},
   "source": [
    "##### https://docs.scipy.org/doc/scipy/reference/stats.html\n",
    "##### https://seaborn.pydata.org/"
   ]
  },
  {
   "cell_type": "markdown",
   "metadata": {},
   "source": [
    "### MUESTRA Y POBLACIÓN"
   ]
  },
  {
   "cell_type": "code",
   "execution_count": 2,
   "metadata": {},
   "outputs": [
    {
     "name": "stdout",
     "output_type": "stream",
     "text": [
      "2 16.99\n",
      "1 16.97\n",
      "5 17.17\n",
      "4 16.43\n",
      "3 16.1\n",
      "6 16.34\n"
     ]
    }
   ],
   "source": [
    "import random\n",
    "from collections import Counter\n",
    "rolled = []\n",
    "repeat = 0\n",
    "tiros = 10\n",
    "while repeat < tiros:\n",
    "    dices = random.randint(1,6)\n",
    "    rolled.append(dices)\n",
    "    repeat = repeat +1\n",
    "d = dict(Counter(rolled))\n",
    "for k, v in d.items():\n",
    "    pct = v * 100.0 / tiros\n",
    "    print(k, pct)"
   ]
  },
  {
   "cell_type": "markdown",
   "metadata": {},
   "source": [
    "***Población. Es el conjunto de personas u objetos de los que se desea conocer algo en una investigación.***\n",
    "\n",
    "***Muestra. Es un subconjunto o parte del universo o población en que se llevará a cabo la investigación. Hay procedimientos para obtener la cantidad de los componentes de la muestra como fórmulas, lógica y otros que se vera más adelante. La muestra es una parte representativa de la población.***"
   ]
  },
  {
   "cell_type": "markdown",
   "metadata": {},
   "source": [
    "### ¿Qué buscamos? ¿Cuál es nuestra hipótesis?"
   ]
  },
  {
   "cell_type": "markdown",
   "metadata": {},
   "source": [
    "Los datos que buscamos, los atributos que medimos o recolectamos y las comparaciones que hagamos dependen en primera instancia de aquello que perseguimos"
   ]
  },
  {
   "cell_type": "code",
   "execution_count": 3,
   "metadata": {},
   "outputs": [],
   "source": [
    "path = 'C:/Users/Leand/OneDrive/Documentos/Lean/SBG/Estadistica/'\n",
    "df = pd.read_csv(path + 'Tabla_estadistica.csv', sep=';', header=0)\n",
    "del df['Numero']"
   ]
  },
  {
   "cell_type": "code",
   "execution_count": 4,
   "metadata": {},
   "outputs": [
    {
     "data": {
      "text/html": [
       "<div>\n",
       "<style scoped>\n",
       "    .dataframe tbody tr th:only-of-type {\n",
       "        vertical-align: middle;\n",
       "    }\n",
       "\n",
       "    .dataframe tbody tr th {\n",
       "        vertical-align: top;\n",
       "    }\n",
       "\n",
       "    .dataframe thead th {\n",
       "        text-align: right;\n",
       "    }\n",
       "</style>\n",
       "<table border=\"1\" class=\"dataframe\">\n",
       "  <thead>\n",
       "    <tr style=\"text-align: right;\">\n",
       "      <th></th>\n",
       "      <th>Fecha</th>\n",
       "      <th>Sexo</th>\n",
       "      <th>Poblacion</th>\n",
       "      <th>AdenoV</th>\n",
       "      <th>RSV</th>\n",
       "      <th>INFA</th>\n",
       "      <th>INFB</th>\n",
       "      <th>PIV1</th>\n",
       "      <th>PIV2</th>\n",
       "      <th>PIV3</th>\n",
       "      <th>Edad(meses)</th>\n",
       "    </tr>\n",
       "  </thead>\n",
       "  <tbody>\n",
       "    <tr>\n",
       "      <th>0</th>\n",
       "      <td>03/01/11</td>\n",
       "      <td>F</td>\n",
       "      <td>CABA</td>\n",
       "      <td>-</td>\n",
       "      <td>-</td>\n",
       "      <td>-</td>\n",
       "      <td>-</td>\n",
       "      <td>-</td>\n",
       "      <td>-</td>\n",
       "      <td>-</td>\n",
       "      <td>96.0</td>\n",
       "    </tr>\n",
       "    <tr>\n",
       "      <th>1</th>\n",
       "      <td>03/01/11</td>\n",
       "      <td>F</td>\n",
       "      <td>LA FERRERE</td>\n",
       "      <td>-</td>\n",
       "      <td>-</td>\n",
       "      <td>-</td>\n",
       "      <td>-</td>\n",
       "      <td>-</td>\n",
       "      <td>-</td>\n",
       "      <td>-</td>\n",
       "      <td>4.0</td>\n",
       "    </tr>\n",
       "    <tr>\n",
       "      <th>2</th>\n",
       "      <td>03/01/11</td>\n",
       "      <td>M</td>\n",
       "      <td>VILLA CELINA</td>\n",
       "      <td>-</td>\n",
       "      <td>-</td>\n",
       "      <td>-</td>\n",
       "      <td>-</td>\n",
       "      <td>-</td>\n",
       "      <td>-</td>\n",
       "      <td>-</td>\n",
       "      <td>8.0</td>\n",
       "    </tr>\n",
       "    <tr>\n",
       "      <th>3</th>\n",
       "      <td>03/01/11</td>\n",
       "      <td>M</td>\n",
       "      <td>VILLA CELINA</td>\n",
       "      <td>-</td>\n",
       "      <td>-</td>\n",
       "      <td>-</td>\n",
       "      <td>-</td>\n",
       "      <td>-</td>\n",
       "      <td>-</td>\n",
       "      <td>-</td>\n",
       "      <td>8.0</td>\n",
       "    </tr>\n",
       "    <tr>\n",
       "      <th>4</th>\n",
       "      <td>03/01/11</td>\n",
       "      <td>F</td>\n",
       "      <td>NaN</td>\n",
       "      <td>-</td>\n",
       "      <td>-</td>\n",
       "      <td>-</td>\n",
       "      <td>-</td>\n",
       "      <td>-</td>\n",
       "      <td>-</td>\n",
       "      <td>-</td>\n",
       "      <td>9.0</td>\n",
       "    </tr>\n",
       "  </tbody>\n",
       "</table>\n",
       "</div>"
      ],
      "text/plain": [
       "      Fecha Sexo     Poblacion AdenoV RSV INFA INFB PIV1 PIV2 PIV3  \\\n",
       "0  03/01/11    F          CABA      -   -    -    -    -    -    -   \n",
       "1  03/01/11    F    LA FERRERE      -   -    -    -    -    -    -   \n",
       "2  03/01/11    M  VILLA CELINA      -   -    -    -    -    -    -   \n",
       "3  03/01/11    M  VILLA CELINA      -   -    -    -    -    -    -   \n",
       "4  03/01/11    F           NaN      -   -    -    -    -    -    -   \n",
       "\n",
       "   Edad(meses)  \n",
       "0         96.0  \n",
       "1          4.0  \n",
       "2          8.0  \n",
       "3          8.0  \n",
       "4          9.0  "
      ]
     },
     "execution_count": 4,
     "metadata": {},
     "output_type": "execute_result"
    }
   ],
   "source": [
    "df.head()"
   ]
  },
  {
   "cell_type": "code",
   "execution_count": 5,
   "metadata": {},
   "outputs": [
    {
     "data": {
      "text/html": [
       "<div>\n",
       "<style scoped>\n",
       "    .dataframe tbody tr th:only-of-type {\n",
       "        vertical-align: middle;\n",
       "    }\n",
       "\n",
       "    .dataframe tbody tr th {\n",
       "        vertical-align: top;\n",
       "    }\n",
       "\n",
       "    .dataframe thead th {\n",
       "        text-align: right;\n",
       "    }\n",
       "</style>\n",
       "<table border=\"1\" class=\"dataframe\">\n",
       "  <thead>\n",
       "    <tr style=\"text-align: right;\">\n",
       "      <th></th>\n",
       "      <th>Edad(meses)</th>\n",
       "    </tr>\n",
       "  </thead>\n",
       "  <tbody>\n",
       "    <tr>\n",
       "      <th>count</th>\n",
       "      <td>6730.000000</td>\n",
       "    </tr>\n",
       "    <tr>\n",
       "      <th>mean</th>\n",
       "      <td>17.806300</td>\n",
       "    </tr>\n",
       "    <tr>\n",
       "      <th>std</th>\n",
       "      <td>92.370807</td>\n",
       "    </tr>\n",
       "    <tr>\n",
       "      <th>min</th>\n",
       "      <td>0.000000</td>\n",
       "    </tr>\n",
       "    <tr>\n",
       "      <th>25%</th>\n",
       "      <td>2.000000</td>\n",
       "    </tr>\n",
       "    <tr>\n",
       "      <th>50%</th>\n",
       "      <td>6.000000</td>\n",
       "    </tr>\n",
       "    <tr>\n",
       "      <th>75%</th>\n",
       "      <td>13.000000</td>\n",
       "    </tr>\n",
       "    <tr>\n",
       "      <th>max</th>\n",
       "      <td>6120.000000</td>\n",
       "    </tr>\n",
       "  </tbody>\n",
       "</table>\n",
       "</div>"
      ],
      "text/plain": [
       "       Edad(meses)\n",
       "count  6730.000000\n",
       "mean     17.806300\n",
       "std      92.370807\n",
       "min       0.000000\n",
       "25%       2.000000\n",
       "50%       6.000000\n",
       "75%      13.000000\n",
       "max    6120.000000"
      ]
     },
     "execution_count": 5,
     "metadata": {},
     "output_type": "execute_result"
    }
   ],
   "source": [
    "df.describe()"
   ]
  },
  {
   "cell_type": "markdown",
   "metadata": {},
   "source": [
    "### ¿Qué hacemos si faltan valores para algunos atributos?"
   ]
  },
  {
   "cell_type": "markdown",
   "metadata": {},
   "source": [
    "*Ante la falta de valores tenemos tres opciones:*\n",
    "\n",
    "   *- Eliminamos cada suceso que tenga al menos un valor faltante.*\n",
    "    \n",
    "   *- Reemplazamos los valores faltantes por el valor más frecuente\n",
    "      si el atributo es categórico o por el promedio si es numérico.*\n",
    "      \n",
    "   *-Eliminar los atributos con datos faltantes.*\n",
    "      \n",
    "*¿Qué harían ustedes?*"
   ]
  },
  {
   "cell_type": "code",
   "execution_count": 7,
   "metadata": {},
   "outputs": [],
   "source": [
    "df = df.dropna()"
   ]
  },
  {
   "cell_type": "markdown",
   "metadata": {},
   "source": [
    "### ¿Qué nos dicen los datos?¿Tienen sentido?"
   ]
  },
  {
   "cell_type": "markdown",
   "metadata": {},
   "source": [
    "***Hay datos que se alejan del comportamiento estándar y para eso tenemos conocer las razones***\n",
    "\n",
    "***-Errores al cargar los datos***\n",
    "\n",
    "***-Valores erráticos (Outliers)***"
   ]
  },
  {
   "cell_type": "code",
   "execution_count": 8,
   "metadata": {},
   "outputs": [
    {
     "data": {
      "text/plain": [
       "<seaborn.axisgrid.FacetGrid at 0x2ad497766d8>"
      ]
     },
     "execution_count": 8,
     "metadata": {},
     "output_type": "execute_result"
    },
    {
     "data": {
      "image/png": "[encoded data removed]",
      "text/plain": [
       "<Figure size 360x360 with 1 Axes>"
      ]
     },
     "metadata": {
      "needs_background": "light"
     },
     "output_type": "display_data"
    }
   ],
   "source": [
    "sns.catplot(x=None, y=None, kind=\"box\", data=df)"
   ]
  },
  {
   "cell_type": "markdown",
   "metadata": {},
   "source": [
    "***Criterio IQR para el tratamiento de outliers***"
   ]
  },
  {
   "cell_type": "code",
   "execution_count": 9,
   "metadata": {},
   "outputs": [],
   "source": [
    "Q1 = df['Edad(meses)'].quantile(0.02)\n",
    "Q3 = df['Edad(meses)'].quantile(0.98)\n",
    "IQR = Q3 - Q1\n",
    "idx = ~((df['Edad(meses)'] < (Q1 - 1.5 * IQR)) | (df['Edad(meses)'] > (Q3 + 1.5 * IQR)))"
   ]
  },
  {
   "cell_type": "code",
   "execution_count": 10,
   "metadata": {},
   "outputs": [],
   "source": [
    "df1 = df[idx.values]"
   ]
  },
  {
   "cell_type": "code",
   "execution_count": 11,
   "metadata": {},
   "outputs": [
    {
     "data": {
      "text/plain": [
       "<seaborn.axisgrid.FacetGrid at 0x2ad49af5e48>"
      ]
     },
     "execution_count": 11,
     "metadata": {},
     "output_type": "execute_result"
    },
    {
     "data": {
      "image/png": "[encoded data removed]",
      "text/plain": [
       "<Figure size 360x360 with 1 Axes>"
      ]
     },
     "metadata": {
      "needs_background": "light"
     },
     "output_type": "display_data"
    }
   ],
   "source": [
    "#Volvemos a graficar\n",
    "sns.catplot(x=None, y=None, kind=\"box\", data=df1)"
   ]
  },
  {
   "cell_type": "markdown",
   "metadata": {},
   "source": [
    "**Criterio de z-score para el tratamiento de outliers**"
   ]
  },
  {
   "cell_type": "code",
   "execution_count": 12,
   "metadata": {},
   "outputs": [
    {
     "name": "stdout",
     "output_type": "stream",
     "text": [
      "[1.2322924  0.22485029 0.16149626 ... 0.47204404 0.22485029 0.20595711]\n",
      "(array([  84,  243,  328, 1438, 2115, 3212, 3345, 3640, 3706], dtype=int64),)\n"
     ]
    }
   ],
   "source": [
    "# Test de outliers\n",
    "\n",
    "'''Este test me devuelve las posiciones que tiene un z-score por encima del valor de referencia;\n",
    "es decir, las posiciones de los datos outliers'''\n",
    "\n",
    "#Calcula el estadístico del test\n",
    "z = np.abs(ss.zscore(df['Edad(meses)']))\n",
    "\n",
    "#Muestra las posiciones donde están los outliers\n",
    "threshold = 3\n",
    "print(np.where(z > threshold))"
   ]
  },
  {
   "cell_type": "code",
   "execution_count": 13,
   "metadata": {},
   "outputs": [],
   "source": [
    "# Elimino outliers\n",
    "\n",
    "df_no_outliers = df[(z < threshold)]"
   ]
  },
  {
   "cell_type": "code",
   "execution_count": 14,
   "metadata": {},
   "outputs": [
    {
     "data": {
      "text/plain": [
       "<seaborn.axisgrid.FacetGrid at 0x2ad49b643c8>"
      ]
     },
     "execution_count": 14,
     "metadata": {},
     "output_type": "execute_result"
    },
    {
     "data": {
      "image/png": "[encoded data removed]",
      "text/plain": [
       "<Figure size 360x360 with 1 Axes>"
      ]
     },
     "metadata": {
      "needs_background": "light"
     },
     "output_type": "display_data"
    }
   ],
   "source": [
    "#Volvemos a graficar\n",
    "sns.catplot(x=None, y=None, kind=\"box\", data= df_no_outliers)"
   ]
  },
  {
   "cell_type": "markdown",
   "metadata": {},
   "source": [
    "### ¿Qué se puede decir de las edades?"
   ]
  },
  {
   "cell_type": "markdown",
   "metadata": {},
   "source": [
    "##### Cálculo de frecuencias"
   ]
  },
  {
   "cell_type": "code",
   "execution_count": 15,
   "metadata": {},
   "outputs": [],
   "source": [
    "cumfreq = ss.cumfreq(df['Edad(meses)'], numbins=10, defaultreallimits=None, weights=None)\n",
    "relfreq = ss.relfreq(df['Edad(meses)'], numbins=10, defaultreallimits=None, weights=None)"
   ]
  },
  {
   "cell_type": "code",
   "execution_count": 33,
   "metadata": {},
   "outputs": [
    {
     "data": {
      "image/png": "[encoded data removed]",
      "text/plain": [
       "<Figure size 432x288 with 1 Axes>"
      ]
     },
     "metadata": {
      "needs_background": "light"
     },
     "output_type": "display_data"
    }
   ],
   "source": [
    "# Cumulative counts:\n",
    "df1['Edad(meses)'].hist(cumulative=True, density=1, bins=100)\n",
    "plt.show()"
   ]
  },
  {
   "cell_type": "code",
   "execution_count": 30,
   "metadata": {},
   "outputs": [
    {
     "name": "stderr",
     "output_type": "stream",
     "text": [
      "C:\\Users\\Leand\\PyMOL\\lib\\site-packages\\ipykernel_launcher.py:4: MatplotlibDeprecationWarning: \n",
      "The 'normed' kwarg was deprecated in Matplotlib 2.1 and will be removed in 3.1. Use 'density' instead.\n",
      "  after removing the cwd from sys.path.\n"
     ]
    },
    {
     "data": {
      "image/png": "[encoded data removed]",
      "text/plain": [
       "<Figure size 432x288 with 1 Axes>"
      ]
     },
     "metadata": {
      "needs_background": "light"
     },
     "output_type": "display_data"
    }
   ],
   "source": [
    "#Graficamos la distribuicón de los datos: histograma\n",
    "%matplotlib inline\n",
    "x = df1['Edad(meses)']\n",
    "plt.hist(x, normed=True, bins=100)\n",
    "plt.ylabel('Frequency');"
   ]
  },
  {
   "cell_type": "markdown",
   "metadata": {},
   "source": [
    "**¿Qué conclusiones podemos sacar?**"
   ]
  },
  {
   "cell_type": "code",
   "execution_count": 37,
   "metadata": {},
   "outputs": [
    {
     "name": "stdout",
     "output_type": "stream",
     "text": [
      "NormaltestResult(statistic=3395.494093628281, pvalue=0.0)\n",
      "(0.5396159887313843, 0.0)\n"
     ]
    }
   ],
   "source": [
    "# Test de distribución\n",
    "\n",
    "print(ss.normaltest(df1['Edad(meses)'], axis=0, nan_policy='propagate'))\n",
    "print(ss.shapiro(df1['Edad(meses)']))"
   ]
  },
  {
   "cell_type": "markdown",
   "metadata": {},
   "source": [
    "**¿Qué podemos decir de esto?**"
   ]
  },
  {
   "cell_type": "markdown",
   "metadata": {},
   "source": [
    "# Manejo de datos cualitativos"
   ]
  },
  {
   "cell_type": "markdown",
   "metadata": {},
   "source": [
    "**Graficamos el número de casos de cada grupo**"
   ]
  },
  {
   "cell_type": "code",
   "execution_count": 38,
   "metadata": {},
   "outputs": [
    {
     "data": {
      "image/png": "[encoded data removed]",
      "text/plain": [
       "<Figure size 432x288 with 1 Axes>"
      ]
     },
     "metadata": {},
     "output_type": "display_data"
    }
   ],
   "source": [
    "carrier_count = df1 ['RSV'].value_counts()\n",
    "\n",
    "#definimos el estilo de gráfico\n",
    "sns.set(style=\"darkgrid\")\n",
    "sns.barplot(carrier_count.index, carrier_count.values, alpha=0.9)\n",
    "#titulo\n",
    "plt.title('Frequency Distribution of Results')\n",
    "#Nombres de los ejes\n",
    "plt.ylabel('Number of Occurrences', fontsize=12)\n",
    "plt.xlabel('Results', fontsize=12)\n",
    "\n",
    "plt.show()"
   ]
  },
  {
   "cell_type": "code",
   "execution_count": 39,
   "metadata": {},
   "outputs": [
    {
     "data": {
      "image/png": "[encoded data removed]",
      "text/plain": [
       "<Figure size 432x288 with 1 Axes>"
      ]
     },
     "metadata": {},
     "output_type": "display_data"
    }
   ],
   "source": [
    "labels = df1 ['RSV'].astype('category').cat.categories.tolist()\n",
    "counts = df1 ['RSV'].value_counts()\n",
    "sizes = [counts[var_cat] for var_cat in labels]\n",
    "fig1, ax1 = plt.subplots()\n",
    "ax1.pie(sizes, labels=labels, autopct='%1.1f%%', shadow=True) #autopct is show the % on plot\n",
    "ax1.axis('equal')\n",
    "plt.show()"
   ]
  },
  {
   "cell_type": "markdown",
   "metadata": {},
   "source": [
    "### ¿Cómo podríamos saber si existe relación entre la infección con más de un virus?\n",
    "\n",
    "***Tablas de contingencia***"
   ]
  },
  {
   "cell_type": "code",
   "execution_count": 47,
   "metadata": {},
   "outputs": [],
   "source": [
    "df2 = df1 ['RSV'] + df1 ['AdenoV']\n",
    "\n",
    "a = df1 ['RSV'] == '+'\n",
    "b = df1 ['AdenoV'] == '+'\n",
    "\n",
    "#comparamos los datos en una tabla de contingencia\n",
    "groups = df2.groupby([a,b]).count() \n",
    "print (groups)"
   ]
  },
  {
   "cell_type": "code",
   "execution_count": 48,
   "metadata": {},
   "outputs": [
    {
     "data": {
      "text/plain": [
       "Power_divergenceResult(statistic=6527.826730518067, pvalue=0.0)"
      ]
     },
     "execution_count": 48,
     "metadata": {},
     "output_type": "execute_result"
    }
   ],
   "source": [
    "#Test de comparación de datos cualitativos\n",
    "ss.chisquare(groups, ddof=0, axis=0)"
   ]
  },
  {
   "cell_type": "markdown",
   "metadata": {},
   "source": [
    "**¿Cómo podría saber si ser positivo para RSV es más probable en chicos que en grandes?**"
   ]
  },
  {
   "cell_type": "code",
   "execution_count": null,
   "metadata": {},
   "outputs": [],
   "source": []
  },
  {
   "cell_type": "markdown",
   "metadata": {},
   "source": [
    "**Obteniendo previamente los datos del servicio meteorológico nacional:\n",
    "¿podrían hacer alguna inferencia de la relación entre la temperatura ambiente y/o la radiación con la incidencia y prevalencia de cada virus?**\n",
    "\n",
    "https://www.smn.gob.ar/descarga-de-datos"
   ]
  },
  {
   "cell_type": "code",
   "execution_count": null,
   "metadata": {},
   "outputs": [],
   "source": []
  },
  {
   "cell_type": "markdown",
   "metadata": {},
   "source": [
    "**¿Existe una correlación entre la prevalencia de casos positivos respecto de la temperatura promedio por mes?**"
   ]
  },
  {
   "cell_type": "code",
   "execution_count": null,
   "metadata": {},
   "outputs": [],
   "source": []
  },
  {
   "cell_type": "markdown",
   "metadata": {},
   "source": [
    "**¿Se les ocurre alguna manera de trabajar con estos datos y comparar distribuciones?**"
   ]
  },
  {
   "cell_type": "code",
   "execution_count": 88,
   "metadata": {},
   "outputs": [],
   "source": []
  },
  {
   "cell_type": "code",
   "execution_count": 49,
   "metadata": {},
   "outputs": [],
   "source": [
    "#Separo los datos en dos grupos\n",
    "\n",
    "df_pos = df1[df1['RSV'] == '+']\n",
    "df_neg = df1[df1['RSV'] == '-']"
   ]
  },
  {
   "cell_type": "code",
   "execution_count": 50,
   "metadata": {},
   "outputs": [
    {
     "data": {
      "text/plain": [
       "Ttest_indResult(statistic=-8.936357760462757, pvalue=5.798603181591831e-19)"
      ]
     },
     "execution_count": 50,
     "metadata": {},
     "output_type": "execute_result"
    }
   ],
   "source": [
    "ss.ttest_ind(df_pos['Edad(meses)'], df_neg['Edad(meses)'], axis=0, equal_var=True, nan_policy='propagate')"
   ]
  },
  {
   "cell_type": "code",
   "execution_count": 100,
   "metadata": {},
   "outputs": [
    {
     "name": "stdout",
     "output_type": "stream",
     "text": [
      "Edades promedio de postivos = 9.705598243688259\n",
      "Edades promedio de negativos = 18.75326251896811\n"
     ]
    }
   ],
   "source": [
    "print ('Edades promedio de postivos = ' + str(df_pos['Edad(meses)'].mean()))\n",
    "print ('Edades promedio de negativos = ' + str(df_neg['Edad(meses)'].mean()))"
   ]
  },
  {
   "cell_type": "code",
   "execution_count": 52,
   "metadata": {},
   "outputs": [
    {
     "data": {
      "text/plain": [
       "Ttest_indResult(statistic=-8.936357760462757, pvalue=5.798603181591831e-19)"
      ]
     },
     "execution_count": 52,
     "metadata": {},
     "output_type": "execute_result"
    }
   ],
   "source": [
    "import scipy.stats\n",
    "\n",
    "mean_pos = df_pos['Edad(meses)'].mean()\n",
    "std_pos = df_pos['Edad(meses)'].std()\n",
    "count_pos = df_pos['Edad(meses)'].count()\n",
    "mean_neg = df_neg['Edad(meses)'].mean()\n",
    "std_neg =  df_neg['Edad(meses)'].std()\n",
    "count_neg = df_neg['Edad(meses)'].count()\n",
    "\n",
    "\n",
    "\n",
    "\n",
    "ss.ttest_ind_from_stats(mean_pos, std_pos, count_pos, mean_neg, std_neg, count_neg, equal_var=True)"
   ]
  },
  {
   "cell_type": "code",
   "execution_count": 53,
   "metadata": {},
   "outputs": [
    {
     "data": {
      "image/png": "[encoded data removed]",
      "text/plain": [
       "<Figure size 432x288 with 1 Axes>"
      ]
     },
     "metadata": {},
     "output_type": "display_data"
    }
   ],
   "source": [
    "objects = ('+', '-')\n",
    "y_pos = np.arange(len(objects))\n",
    "performance = [df_pos['Edad(meses)'].mean(),df_neg['Edad(meses)'].mean()]\n",
    "\n",
    "plt.bar(y_pos, performance, align='center', alpha=0.5)\n",
    "plt.xticks(y_pos, objects)\n",
    "plt.ylabel('Edades(meses)')\n",
    "plt.title('Promedio de edades')\n",
    "\n",
    "plt.show()"
   ]
  },
  {
   "cell_type": "code",
   "execution_count": 64,
   "metadata": {},
   "outputs": [],
   "source": [
    "path = 'C:/Users/Leand/OneDrive/Documentos/Lean/SBG/Estadistica/'\n",
    "\n",
    "df = pd.read_csv(path + 'kcat_km.csv', sep=',', header=0, encoding= 'unicode_escape').astype(float)"
   ]
  },
  {
   "cell_type": "code",
   "execution_count": 68,
   "metadata": {},
   "outputs": [],
   "source": [
    "df = df.dropna()"
   ]
  },
  {
   "cell_type": "code",
   "execution_count": 69,
   "metadata": {},
   "outputs": [
    {
     "data": {
      "text/html": [
       "<div>\n",
       "<style scoped>\n",
       "    .dataframe tbody tr th:only-of-type {\n",
       "        vertical-align: middle;\n",
       "    }\n",
       "\n",
       "    .dataframe tbody tr th {\n",
       "        vertical-align: top;\n",
       "    }\n",
       "\n",
       "    .dataframe thead th {\n",
       "        text-align: right;\n",
       "    }\n",
       "</style>\n",
       "<table border=\"1\" class=\"dataframe\">\n",
       "  <thead>\n",
       "    <tr style=\"text-align: right;\">\n",
       "      <th></th>\n",
       "      <th>B-lactamasas</th>\n",
       "      <th>Desplazamientos</th>\n",
       "      <th>BPN</th>\n",
       "      <th>AMP</th>\n",
       "      <th>OXA</th>\n",
       "      <th>TIC</th>\n",
       "      <th>PIP</th>\n",
       "      <th>CFT</th>\n",
       "      <th>CFX</th>\n",
       "      <th>CFP</th>\n",
       "      <th>IMI</th>\n",
       "      <th>MER</th>\n",
       "    </tr>\n",
       "  </thead>\n",
       "  <tbody>\n",
       "    <tr>\n",
       "      <th>1</th>\n",
       "      <td>48.0</td>\n",
       "      <td>1.580347</td>\n",
       "      <td>0.073494</td>\n",
       "      <td>0.060833</td>\n",
       "      <td>0.040476</td>\n",
       "      <td>0.227778</td>\n",
       "      <td>0.257143</td>\n",
       "      <td>0.306122</td>\n",
       "      <td>1.000000</td>\n",
       "      <td>0.400000</td>\n",
       "      <td>0.58</td>\n",
       "      <td>0.5</td>\n",
       "    </tr>\n",
       "    <tr>\n",
       "      <th>2</th>\n",
       "      <td>54.0</td>\n",
       "      <td>7.634224</td>\n",
       "      <td>0.024096</td>\n",
       "      <td>0.020833</td>\n",
       "      <td>0.023810</td>\n",
       "      <td>0.034722</td>\n",
       "      <td>0.121429</td>\n",
       "      <td>0.030612</td>\n",
       "      <td>0.166667</td>\n",
       "      <td>0.333333</td>\n",
       "      <td>1.00</td>\n",
       "      <td>1.0</td>\n",
       "    </tr>\n",
       "    <tr>\n",
       "      <th>5</th>\n",
       "      <td>181.0</td>\n",
       "      <td>1.313378</td>\n",
       "      <td>0.042892</td>\n",
       "      <td>0.250000</td>\n",
       "      <td>0.041667</td>\n",
       "      <td>0.180556</td>\n",
       "      <td>0.500000</td>\n",
       "      <td>0.051020</td>\n",
       "      <td>0.916667</td>\n",
       "      <td>1.000000</td>\n",
       "      <td>0.40</td>\n",
       "      <td>1.0</td>\n",
       "    </tr>\n",
       "    <tr>\n",
       "      <th>6</th>\n",
       "      <td>232.0</td>\n",
       "      <td>1.279839</td>\n",
       "      <td>0.102410</td>\n",
       "      <td>0.366667</td>\n",
       "      <td>0.114286</td>\n",
       "      <td>1.000000</td>\n",
       "      <td>1.000000</td>\n",
       "      <td>0.102041</td>\n",
       "      <td>0.500000</td>\n",
       "      <td>0.666667</td>\n",
       "      <td>0.12</td>\n",
       "      <td>1.0</td>\n",
       "    </tr>\n",
       "  </tbody>\n",
       "</table>\n",
       "</div>"
      ],
      "text/plain": [
       "   B-lactamasas  Desplazamientos       BPN       AMP       OXA       TIC  \\\n",
       "1          48.0         1.580347  0.073494  0.060833  0.040476  0.227778   \n",
       "2          54.0         7.634224  0.024096  0.020833  0.023810  0.034722   \n",
       "5         181.0         1.313378  0.042892  0.250000  0.041667  0.180556   \n",
       "6         232.0         1.279839  0.102410  0.366667  0.114286  1.000000   \n",
       "\n",
       "        PIP       CFT       CFX       CFP   IMI  MER  \n",
       "1  0.257143  0.306122  1.000000  0.400000  0.58  0.5  \n",
       "2  0.121429  0.030612  0.166667  0.333333  1.00  1.0  \n",
       "5  0.500000  0.051020  0.916667  1.000000  0.40  1.0  \n",
       "6  1.000000  0.102041  0.500000  0.666667  0.12  1.0  "
      ]
     },
     "execution_count": 69,
     "metadata": {},
     "output_type": "execute_result"
    }
   ],
   "source": [
    "df"
   ]
  },
  {
   "cell_type": "code",
   "execution_count": 75,
   "metadata": {},
   "outputs": [
    {
     "data": {
      "text/plain": [
       "(0.856594759526107, 0.14340524047389303)"
      ]
     },
     "execution_count": 75,
     "metadata": {},
     "output_type": "execute_result"
    }
   ],
   "source": [
    "import scipy.stats\n",
    "\n",
    "x = df['AMP'][:]\n",
    "y = df ['OXA'][:]\n",
    "scipy.stats.pearsonr(x, y)"
   ]
  },
  {
   "cell_type": "code",
   "execution_count": 76,
   "metadata": {},
   "outputs": [
    {
     "data": {
      "image/png": "[encoded data removed]",
      "text/plain": [
       "<Figure size 432x288 with 1 Axes>"
      ]
     },
     "metadata": {},
     "output_type": "display_data"
    }
   ],
   "source": [
    "# plot\n",
    "matplotlib.pyplot.scatter(x,y)\n",
    "\n",
    "matplotlib.pyplot.show()"
   ]
  },
  {
   "cell_type": "code",
   "execution_count": null,
   "metadata": {},
   "outputs": [],
   "source": []
  }
 ],
 "metadata": {
  "kernelspec": {
   "display_name": "Python 3",
   "language": "python",
   "name": "python3"
  },
  "language_info": {
   "codemirror_mode": {
    "name": "ipython",
    "version": 3
   },
   "file_extension": ".py",
   "mimetype": "text/x-python",
   "name": "python",
   "nbconvert_exporter": "python",
   "pygments_lexer": "ipython3",
   "version": "3.7.6"
  }
 },
 "nbformat": 4,
 "nbformat_minor": 4
}
